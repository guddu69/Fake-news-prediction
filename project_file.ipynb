{
 "cells": [
  {
   "cell_type": "code",
   "execution_count": 1,
   "id": "749abe52",
   "metadata": {},
   "outputs": [],
   "source": [
    "import pandas as pd # used in data manipulations and analysis\n",
    "import numpy as np  # used for numerical computations\n",
    "import re # regular expressions (pattern matching and searching)\n",
    "\n",
    "# nltk : Natural Language Toolkit\n",
    "from nltk.corpus import stopwords\n",
    "from nltk.stem.porter import PorterStemmer # for stemming (gives root word)\n",
    "# TF-IDF (Term Frequency-Inverse Document Frequency) \n",
    "from sklearn.feature_extraction.text import TfidfVectorizer # convert text to numerical feature vector\n",
    "from sklearn.model_selection import train_test_split # split data into train & test set\n",
    "\n",
    "from sklearn.linear_model import LogisticRegression\n",
    "from sklearn.svm import SVC # Support Vector Classifier (SVC) \n",
    "from sklearn.neighbors import KNeighborsClassifier\n",
    "\n",
    "from sklearn.metrics import confusion_matrix, accuracy_score\n",
    "import matplotlib.pyplot as plt # for ploting (data visualization)"
   ]
  },
  {
   "cell_type": "code",
   "execution_count": 2,
   "id": "e93a29e3",
   "metadata": {
    "scrolled": true
   },
   "outputs": [],
   "source": [
    "# import nltk\n",
    "# nltk.download('stopwords') # downloading all the stopwords if not already present"
   ]
  },
  {
   "cell_type": "code",
   "execution_count": 3,
   "id": "0a757780",
   "metadata": {},
   "outputs": [
    {
     "name": "stdout",
     "output_type": "stream",
     "text": [
      "['i', 'me', 'my', 'myself', 'we', 'our', 'ours', 'ourselves', 'you', \"you're\", \"you've\", \"you'll\", \"you'd\", 'your', 'yours', 'yourself', 'yourselves', 'he', 'him', 'his', 'himself', 'she', \"she's\", 'her', 'hers', 'herself', 'it', \"it's\", 'its', 'itself', 'they', 'them', 'their', 'theirs', 'themselves', 'what', 'which', 'who', 'whom', 'this', 'that', \"that'll\", 'these', 'those', 'am', 'is', 'are', 'was', 'were', 'be', 'been', 'being', 'have', 'has', 'had', 'having', 'do', 'does', 'did', 'doing', 'a', 'an', 'the', 'and', 'but', 'if', 'or', 'because', 'as', 'until', 'while', 'of', 'at', 'by', 'for', 'with', 'about', 'against', 'between', 'into', 'through', 'during', 'before', 'after', 'above', 'below', 'to', 'from', 'up', 'down', 'in', 'out', 'on', 'off', 'over', 'under', 'again', 'further', 'then', 'once', 'here', 'there', 'when', 'where', 'why', 'how', 'all', 'any', 'both', 'each', 'few', 'more', 'most', 'other', 'some', 'such', 'no', 'nor', 'not', 'only', 'own', 'same', 'so', 'than', 'too', 'very', 's', 't', 'can', 'will', 'just', 'don', \"don't\", 'should', \"should've\", 'now', 'd', 'll', 'm', 'o', 're', 've', 'y', 'ain', 'aren', \"aren't\", 'couldn', \"couldn't\", 'didn', \"didn't\", 'doesn', \"doesn't\", 'hadn', \"hadn't\", 'hasn', \"hasn't\", 'haven', \"haven't\", 'isn', \"isn't\", 'ma', 'mightn', \"mightn't\", 'mustn', \"mustn't\", 'needn', \"needn't\", 'shan', \"shan't\", 'shouldn', \"shouldn't\", 'wasn', \"wasn't\", 'weren', \"weren't\", 'won', \"won't\", 'wouldn', \"wouldn't\"]\n"
     ]
    }
   ],
   "source": [
    "print(stopwords.words('English')) # words that dosen't add much value to data set"
   ]
  },
  {
   "cell_type": "markdown",
   "id": "5eb77f5f",
   "metadata": {},
   "source": [
    "# Data Pre-processing"
   ]
  },
  {
   "cell_type": "code",
   "execution_count": 4,
   "id": "e84d05b3",
   "metadata": {},
   "outputs": [],
   "source": [
    "news_dataset = pd.read_csv('train.csv') # loading the Data Set"
   ]
  },
  {
   "cell_type": "code",
   "execution_count": 5,
   "id": "78d3bc4f",
   "metadata": {},
   "outputs": [
    {
     "data": {
      "text/plain": [
       "(20800, 5)"
      ]
     },
     "execution_count": 5,
     "metadata": {},
     "output_type": "execute_result"
    }
   ],
   "source": [
    "news_dataset.shape # number of rows and cloumns"
   ]
  },
  {
   "cell_type": "code",
   "execution_count": 6,
   "id": "5abae6a0",
   "metadata": {
    "scrolled": true
   },
   "outputs": [
    {
     "data": {
      "text/html": [
       "<div>\n",
       "<style scoped>\n",
       "    .dataframe tbody tr th:only-of-type {\n",
       "        vertical-align: middle;\n",
       "    }\n",
       "\n",
       "    .dataframe tbody tr th {\n",
       "        vertical-align: top;\n",
       "    }\n",
       "\n",
       "    .dataframe thead th {\n",
       "        text-align: right;\n",
       "    }\n",
       "</style>\n",
       "<table border=\"1\" class=\"dataframe\">\n",
       "  <thead>\n",
       "    <tr style=\"text-align: right;\">\n",
       "      <th></th>\n",
       "      <th>id</th>\n",
       "      <th>title</th>\n",
       "      <th>author</th>\n",
       "      <th>text</th>\n",
       "      <th>label</th>\n",
       "    </tr>\n",
       "  </thead>\n",
       "  <tbody>\n",
       "    <tr>\n",
       "      <th>0</th>\n",
       "      <td>0</td>\n",
       "      <td>House Dem Aide: We Didn’t Even See Comey’s Let...</td>\n",
       "      <td>Darrell Lucus</td>\n",
       "      <td>House Dem Aide: We Didn’t Even See Comey’s Let...</td>\n",
       "      <td>1</td>\n",
       "    </tr>\n",
       "    <tr>\n",
       "      <th>1</th>\n",
       "      <td>1</td>\n",
       "      <td>FLYNN: Hillary Clinton, Big Woman on Campus - ...</td>\n",
       "      <td>Daniel J. Flynn</td>\n",
       "      <td>Ever get the feeling your life circles the rou...</td>\n",
       "      <td>0</td>\n",
       "    </tr>\n",
       "    <tr>\n",
       "      <th>2</th>\n",
       "      <td>2</td>\n",
       "      <td>Why the Truth Might Get You Fired</td>\n",
       "      <td>Consortiumnews.com</td>\n",
       "      <td>Why the Truth Might Get You Fired October 29, ...</td>\n",
       "      <td>1</td>\n",
       "    </tr>\n",
       "    <tr>\n",
       "      <th>3</th>\n",
       "      <td>3</td>\n",
       "      <td>15 Civilians Killed In Single US Airstrike Hav...</td>\n",
       "      <td>Jessica Purkiss</td>\n",
       "      <td>Videos 15 Civilians Killed In Single US Airstr...</td>\n",
       "      <td>1</td>\n",
       "    </tr>\n",
       "    <tr>\n",
       "      <th>4</th>\n",
       "      <td>4</td>\n",
       "      <td>Iranian woman jailed for fictional unpublished...</td>\n",
       "      <td>Howard Portnoy</td>\n",
       "      <td>Print \\nAn Iranian woman has been sentenced to...</td>\n",
       "      <td>1</td>\n",
       "    </tr>\n",
       "  </tbody>\n",
       "</table>\n",
       "</div>"
      ],
      "text/plain": [
       "   id                                              title              author  \\\n",
       "0   0  House Dem Aide: We Didn’t Even See Comey’s Let...       Darrell Lucus   \n",
       "1   1  FLYNN: Hillary Clinton, Big Woman on Campus - ...     Daniel J. Flynn   \n",
       "2   2                  Why the Truth Might Get You Fired  Consortiumnews.com   \n",
       "3   3  15 Civilians Killed In Single US Airstrike Hav...     Jessica Purkiss   \n",
       "4   4  Iranian woman jailed for fictional unpublished...      Howard Portnoy   \n",
       "\n",
       "                                                text  label  \n",
       "0  House Dem Aide: We Didn’t Even See Comey’s Let...      1  \n",
       "1  Ever get the feeling your life circles the rou...      0  \n",
       "2  Why the Truth Might Get You Fired October 29, ...      1  \n",
       "3  Videos 15 Civilians Killed In Single US Airstr...      1  \n",
       "4  Print \\nAn Iranian woman has been sentenced to...      1  "
      ]
     },
     "execution_count": 6,
     "metadata": {},
     "output_type": "execute_result"
    }
   ],
   "source": [
    "news_dataset.head()"
   ]
  },
  {
   "cell_type": "code",
   "execution_count": 7,
   "id": "f94423be",
   "metadata": {},
   "outputs": [
    {
     "data": {
      "text/plain": [
       "id           0\n",
       "title      558\n",
       "author    1957\n",
       "text        39\n",
       "label        0\n",
       "dtype: int64"
      ]
     },
     "execution_count": 7,
     "metadata": {},
     "output_type": "execute_result"
    }
   ],
   "source": [
    "news_dataset.isnull().sum() # checking the missing values"
   ]
  },
  {
   "cell_type": "code",
   "execution_count": 8,
   "id": "7e744222",
   "metadata": {},
   "outputs": [],
   "source": [
    "news_dataset = news_dataset.fillna('') #replacing null values with empty string"
   ]
  },
  {
   "cell_type": "code",
   "execution_count": 9,
   "id": "fd8db615",
   "metadata": {},
   "outputs": [
    {
     "data": {
      "text/plain": [
       "id        0\n",
       "title     0\n",
       "author    0\n",
       "text      0\n",
       "label     0\n",
       "dtype: int64"
      ]
     },
     "execution_count": 9,
     "metadata": {},
     "output_type": "execute_result"
    }
   ],
   "source": [
    "news_dataset.isnull().sum() # no null values"
   ]
  },
  {
   "cell_type": "markdown",
   "id": "b6f83049",
   "metadata": {},
   "source": [
    "Merging (author) and (title) into new column and storing it in X : "
   ]
  },
  {
   "cell_type": "code",
   "execution_count": 10,
   "id": "de01d757",
   "metadata": {},
   "outputs": [],
   "source": [
    "X = news_dataset['author'] + ' ' + news_dataset['title']"
   ]
  },
  {
   "cell_type": "code",
   "execution_count": 11,
   "id": "bc89e361",
   "metadata": {
    "scrolled": true
   },
   "outputs": [
    {
     "data": {
      "text/plain": [
       "0    Darrell Lucus House Dem Aide: We Didn’t Even S...\n",
       "1    Daniel J. Flynn FLYNN: Hillary Clinton, Big Wo...\n",
       "2    Consortiumnews.com Why the Truth Might Get You...\n",
       "3    Jessica Purkiss 15 Civilians Killed In Single ...\n",
       "4    Howard Portnoy Iranian woman jailed for fictio...\n",
       "dtype: object"
      ]
     },
     "execution_count": 11,
     "metadata": {},
     "output_type": "execute_result"
    }
   ],
   "source": [
    "X.head()"
   ]
  },
  {
   "cell_type": "markdown",
   "id": "7e22840d",
   "metadata": {},
   "source": [
    "Seperating label column from data set"
   ]
  },
  {
   "cell_type": "code",
   "execution_count": 12,
   "id": "fffd50c5",
   "metadata": {},
   "outputs": [],
   "source": [
    "Y = news_dataset['label'] # storing label in Y"
   ]
  },
  {
   "cell_type": "code",
   "execution_count": 13,
   "id": "626a4488",
   "metadata": {},
   "outputs": [
    {
     "data": {
      "text/plain": [
       "0    1\n",
       "1    0\n",
       "2    1\n",
       "3    1\n",
       "4    1\n",
       "Name: label, dtype: int64"
      ]
     },
     "execution_count": 13,
     "metadata": {},
     "output_type": "execute_result"
    }
   ],
   "source": [
    "Y.head()"
   ]
  },
  {
   "cell_type": "markdown",
   "id": "b663b6c1",
   "metadata": {},
   "source": [
    "## Stemming"
   ]
  },
  {
   "cell_type": "markdown",
   "id": "36812023",
   "metadata": {},
   "source": [
    "Reducing words (prefix & suffix) to its root word"
   ]
  },
  {
   "cell_type": "code",
   "execution_count": 14,
   "id": "6279381e",
   "metadata": {},
   "outputs": [],
   "source": [
    "port_stem = PorterStemmer() # creating instance"
   ]
  },
  {
   "cell_type": "code",
   "execution_count": 15,
   "id": "6fa17607",
   "metadata": {},
   "outputs": [],
   "source": [
    "def stemming(content):\n",
    "    stemmed_content = re.sub('[^a-zA-Z]',' ',content) # replace anything other than a_z with ' '\n",
    "    stemmed_content = stemmed_content.lower() # convert to lower case \n",
    "    stemmed_content = stemmed_content.split() # split all the words to list\n",
    "    stemmed_content = [port_stem.stem(word) for word in stemmed_content if not word in stopwords.words('english')] # stemming + removing stopwords\n",
    "    stemmed_content = ' '.join(stemmed_content) # again joining all words with ' '\n",
    "    return stemmed_content"
   ]
  },
  {
   "cell_type": "markdown",
   "id": "dbff9387",
   "metadata": {},
   "source": [
    "Applying stemming on X"
   ]
  },
  {
   "cell_type": "code",
   "execution_count": 16,
   "id": "0241c509",
   "metadata": {},
   "outputs": [],
   "source": [
    "X = X.apply(stemming)"
   ]
  },
  {
   "cell_type": "code",
   "execution_count": 17,
   "id": "760e681a",
   "metadata": {},
   "outputs": [
    {
     "data": {
      "text/plain": [
       "0    darrel lucu hous dem aid even see comey letter...\n",
       "1    daniel j flynn flynn hillari clinton big woman...\n",
       "2               consortiumnew com truth might get fire\n",
       "3    jessica purkiss civilian kill singl us airstri...\n",
       "4    howard portnoy iranian woman jail fiction unpu...\n",
       "dtype: object"
      ]
     },
     "execution_count": 17,
     "metadata": {},
     "output_type": "execute_result"
    }
   ],
   "source": [
    "X.head()"
   ]
  },
  {
   "cell_type": "markdown",
   "id": "b34a0783",
   "metadata": {},
   "source": [
    "separating the data and label (into array format)"
   ]
  },
  {
   "cell_type": "code",
   "execution_count": 18,
   "id": "11d2021b",
   "metadata": {},
   "outputs": [],
   "source": [
    "X = X.values # Data Array\n",
    "Y = Y.values # Label"
   ]
  },
  {
   "cell_type": "code",
   "execution_count": 19,
   "id": "3ac2b88f",
   "metadata": {},
   "outputs": [
    {
     "name": "stdout",
     "output_type": "stream",
     "text": [
      "['darrel lucu hous dem aid even see comey letter jason chaffetz tweet'\n",
      " 'daniel j flynn flynn hillari clinton big woman campu breitbart'\n",
      " 'consortiumnew com truth might get fire' ...\n",
      " 'michael j de la merc rachel abram maci said receiv takeov approach hudson bay new york time'\n",
      " 'alex ansari nato russia hold parallel exercis balkan'\n",
      " 'david swanson keep f aliv']\n"
     ]
    }
   ],
   "source": [
    "print(X)"
   ]
  },
  {
   "cell_type": "code",
   "execution_count": 20,
   "id": "2a4668ce",
   "metadata": {},
   "outputs": [
    {
     "name": "stdout",
     "output_type": "stream",
     "text": [
      "[1 0 1 ... 0 1 1]\n"
     ]
    }
   ],
   "source": [
    "print(Y)"
   ]
  },
  {
   "cell_type": "code",
   "execution_count": 21,
   "id": "da2afbc0",
   "metadata": {},
   "outputs": [
    {
     "data": {
      "text/plain": [
       "(20800,)"
      ]
     },
     "execution_count": 21,
     "metadata": {},
     "output_type": "execute_result"
    }
   ],
   "source": [
    "X.shape"
   ]
  },
  {
   "cell_type": "code",
   "execution_count": 22,
   "id": "c8b2a30e",
   "metadata": {},
   "outputs": [
    {
     "data": {
      "text/plain": [
       "(20800,)"
      ]
     },
     "execution_count": 22,
     "metadata": {},
     "output_type": "execute_result"
    }
   ],
   "source": [
    "Y.shape"
   ]
  },
  {
   "cell_type": "markdown",
   "id": "39083f49",
   "metadata": {},
   "source": [
    "## Vectorizing (Textual data to numerical data)"
   ]
  },
  {
   "cell_type": "code",
   "execution_count": 23,
   "id": "c7a12d32",
   "metadata": {},
   "outputs": [],
   "source": [
    "vectorizer = TfidfVectorizer()\n",
    "vectorizer.fit(X) # converting into feature vector\n",
    "\n",
    "X = vectorizer.transform(X)"
   ]
  },
  {
   "cell_type": "code",
   "execution_count": 24,
   "id": "d2263f8a",
   "metadata": {},
   "outputs": [
    {
     "name": "stdout",
     "output_type": "stream",
     "text": [
      "  (0, 15686)\t0.28485063562728646\n",
      "  (0, 13473)\t0.2565896679337957\n",
      "  (0, 8909)\t0.3635963806326075\n",
      "  (0, 8630)\t0.29212514087043684\n",
      "  (0, 7692)\t0.24785219520671603\n",
      "  (0, 7005)\t0.21874169089359144\n",
      "  (0, 4973)\t0.233316966909351\n",
      "  (0, 3792)\t0.2705332480845492\n",
      "  (0, 3600)\t0.3598939188262559\n",
      "  (0, 2959)\t0.2468450128533713\n",
      "  (0, 2483)\t0.3676519686797209\n",
      "  (0, 267)\t0.27010124977708766\n",
      "  (1, 16799)\t0.30071745655510157\n",
      "  (1, 6816)\t0.1904660198296849\n",
      "  (1, 5503)\t0.7143299355715573\n",
      "  (1, 3568)\t0.26373768806048464\n",
      "  (1, 2813)\t0.19094574062359204\n",
      "  (1, 2223)\t0.3827320386859759\n",
      "  (1, 1894)\t0.15521974226349364\n",
      "  (1, 1497)\t0.2939891562094648\n",
      "  (2, 15611)\t0.41544962664721613\n",
      "  (2, 9620)\t0.49351492943649944\n",
      "  (2, 5968)\t0.3474613386728292\n",
      "  (2, 5389)\t0.3866530551182615\n",
      "  (2, 3103)\t0.46097489583229645\n",
      "  :\t:\n",
      "  (20797, 13122)\t0.2482526352197606\n",
      "  (20797, 12344)\t0.27263457663336677\n",
      "  (20797, 12138)\t0.24778257724396507\n",
      "  (20797, 10306)\t0.08038079000566466\n",
      "  (20797, 9588)\t0.174553480255222\n",
      "  (20797, 9518)\t0.2954204003420313\n",
      "  (20797, 8988)\t0.36160868928090795\n",
      "  (20797, 8364)\t0.22322585870464118\n",
      "  (20797, 7042)\t0.21799048897828688\n",
      "  (20797, 3643)\t0.21155500613623743\n",
      "  (20797, 1287)\t0.33538056804139865\n",
      "  (20797, 699)\t0.30685846079762347\n",
      "  (20797, 43)\t0.29710241860700626\n",
      "  (20798, 13046)\t0.22363267488270608\n",
      "  (20798, 11052)\t0.4460515589182236\n",
      "  (20798, 10177)\t0.3192496370187028\n",
      "  (20798, 6889)\t0.32496285694299426\n",
      "  (20798, 5032)\t0.4083701450239529\n",
      "  (20798, 1125)\t0.4460515589182236\n",
      "  (20798, 588)\t0.3112141524638974\n",
      "  (20798, 350)\t0.28446937819072576\n",
      "  (20799, 14852)\t0.5677577267055112\n",
      "  (20799, 8036)\t0.45983893273780013\n",
      "  (20799, 3623)\t0.37927626273066584\n",
      "  (20799, 377)\t0.5677577267055112\n"
     ]
    }
   ],
   "source": [
    "print(X)"
   ]
  },
  {
   "cell_type": "markdown",
   "id": "05b9eee4",
   "metadata": {},
   "source": [
    "## Spliting the data set to traning and test data"
   ]
  },
  {
   "cell_type": "code",
   "execution_count": 25,
   "id": "60fc3397",
   "metadata": {},
   "outputs": [],
   "source": [
    "X_train, X_test, Y_train, Y_test = train_test_split(X, Y, test_size = 0.2, stratify=Y, random_state=2)"
   ]
  },
  {
   "cell_type": "markdown",
   "id": "dde3077b",
   "metadata": {},
   "source": [
    "stratify=Y :\n",
    "class distribution in the target variable Y is preserved in both the training and testing sets (equal 0 & 1)\n",
    "\n",
    "random_state=2 :\n",
    "ensures that the split is reproducible"
   ]
  },
  {
   "cell_type": "markdown",
   "id": "072c3303",
   "metadata": {},
   "source": [
    "# KNN:"
   ]
  },
  {
   "cell_type": "markdown",
   "id": "d26400e4",
   "metadata": {},
   "source": [
    "Training the model on Train data"
   ]
  },
  {
   "cell_type": "code",
   "execution_count": 26,
   "id": "9235b6e0",
   "metadata": {},
   "outputs": [],
   "source": [
    "knn = KNeighborsClassifier(n_neighbors = 4)"
   ]
  },
  {
   "cell_type": "code",
   "execution_count": 27,
   "id": "155b458a",
   "metadata": {},
   "outputs": [
    {
     "data": {
      "text/plain": [
       "KNeighborsClassifier(n_neighbors=4)"
      ]
     },
     "execution_count": 27,
     "metadata": {},
     "output_type": "execute_result"
    }
   ],
   "source": [
    "knn.fit(X_train, Y_train) # traning model on Train data"
   ]
  },
  {
   "cell_type": "markdown",
   "id": "cb4bb4de",
   "metadata": {},
   "source": [
    "Predicting the Test data."
   ]
  },
  {
   "cell_type": "code",
   "execution_count": 28,
   "id": "0446c249",
   "metadata": {
    "scrolled": true
   },
   "outputs": [
    {
     "name": "stderr",
     "output_type": "stream",
     "text": [
      "/Users/gurkamal/opt/anaconda3/lib/python3.9/site-packages/sklearn/neighbors/_classification.py:228: FutureWarning: Unlike other reduction functions (e.g. `skew`, `kurtosis`), the default behavior of `mode` typically preserves the axis it acts along. In SciPy 1.11.0, this behavior will change: the default value of `keepdims` will become False, the `axis` over which the statistic is taken will be eliminated, and the value None will no longer be accepted. Set `keepdims` to True or False to avoid this warning.\n",
      "  mode, _ = stats.mode(_y[neigh_ind, k], axis=1)\n"
     ]
    }
   ],
   "source": [
    "X_predict = knn.predict(X_test)"
   ]
  },
  {
   "cell_type": "markdown",
   "id": "b0ae1c9a",
   "metadata": {},
   "source": [
    "Evaluation"
   ]
  },
  {
   "cell_type": "code",
   "execution_count": 29,
   "id": "896c907d",
   "metadata": {},
   "outputs": [],
   "source": [
    "knn_accuracy = accuracy_score(X_predict, Y_test)*100"
   ]
  },
  {
   "cell_type": "code",
   "execution_count": 30,
   "id": "42a8ca47",
   "metadata": {},
   "outputs": [
    {
     "name": "stdout",
     "output_type": "stream",
     "text": [
      "Accuracy of our KNN model is:  53.605769230769226 %\n"
     ]
    }
   ],
   "source": [
    "print('Accuracy of our KNN model is: ', knn_accuracy, '%')"
   ]
  },
  {
   "cell_type": "code",
   "execution_count": 31,
   "id": "9c120860",
   "metadata": {},
   "outputs": [
    {
     "data": {
      "text/plain": [
       "array([[ 147,    0],\n",
       "       [1930, 2083]])"
      ]
     },
     "execution_count": 31,
     "metadata": {},
     "output_type": "execute_result"
    }
   ],
   "source": [
    "confusion_matrix(X_predict, Y_test)"
   ]
  },
  {
   "cell_type": "markdown",
   "id": "cefea563",
   "metadata": {},
   "source": [
    "# Logistic Regression: "
   ]
  },
  {
   "cell_type": "markdown",
   "id": "394e3c30",
   "metadata": {},
   "source": [
    "Training the Model"
   ]
  },
  {
   "cell_type": "code",
   "execution_count": 32,
   "id": "0f9966ea",
   "metadata": {},
   "outputs": [],
   "source": [
    "model = LogisticRegression()"
   ]
  },
  {
   "cell_type": "code",
   "execution_count": 33,
   "id": "0724e94b",
   "metadata": {},
   "outputs": [
    {
     "data": {
      "text/plain": [
       "LogisticRegression()"
      ]
     },
     "execution_count": 33,
     "metadata": {},
     "output_type": "execute_result"
    }
   ],
   "source": [
    "model.fit(X_train, Y_train)"
   ]
  },
  {
   "cell_type": "markdown",
   "id": "101eb1d6",
   "metadata": {},
   "source": [
    "Predicting the Train data"
   ]
  },
  {
   "cell_type": "code",
   "execution_count": 34,
   "id": "fe37926f",
   "metadata": {},
   "outputs": [],
   "source": [
    "X_train_predict = model.predict(X_train) # prediction"
   ]
  },
  {
   "cell_type": "code",
   "execution_count": 35,
   "id": "70a8741e",
   "metadata": {},
   "outputs": [
    {
     "name": "stdout",
     "output_type": "stream",
     "text": [
      "Accuracy of Train data:  98.65985576923076 %\n"
     ]
    }
   ],
   "source": [
    "accuracy_train = accuracy_score(X_train_predict, Y_train)*100 # calculating accuracy\n",
    "print('Accuracy of Train data: ',accuracy_train, '%')"
   ]
  },
  {
   "cell_type": "markdown",
   "id": "e8ca7689",
   "metadata": {},
   "source": [
    "Predicting the Test data"
   ]
  },
  {
   "cell_type": "code",
   "execution_count": 36,
   "id": "65ee1b7c",
   "metadata": {},
   "outputs": [],
   "source": [
    "X_test_predict = model.predict(X_test) # prediction"
   ]
  },
  {
   "cell_type": "code",
   "execution_count": 37,
   "id": "7f3a59d5",
   "metadata": {},
   "outputs": [
    {
     "name": "stdout",
     "output_type": "stream",
     "text": [
      "Accuracy of Test data:  97.90865384615385 %\n"
     ]
    }
   ],
   "source": [
    "LR_accuracy = accuracy_score(X_test_predict, Y_test)*100 # calculating accuracy\n",
    "print('Accuracy of Test data: ',LR_accuracy, '%')"
   ]
  },
  {
   "cell_type": "code",
   "execution_count": 38,
   "id": "6c5d29e5",
   "metadata": {},
   "outputs": [
    {
     "data": {
      "text/plain": [
       "array([[2004,   14],\n",
       "       [  73, 2069]])"
      ]
     },
     "execution_count": 38,
     "metadata": {},
     "output_type": "execute_result"
    }
   ],
   "source": [
    "confusion_matrix(X_test_predict, Y_test)"
   ]
  },
  {
   "cell_type": "markdown",
   "id": "62aa7620",
   "metadata": {},
   "source": [
    "## Making a Predictive System (Logistic Regression):"
   ]
  },
  {
   "cell_type": "code",
   "execution_count": 39,
   "id": "4a6ce036",
   "metadata": {},
   "outputs": [
    {
     "name": "stdout",
     "output_type": "stream",
     "text": [
      "[0]\n",
      "News is Real\n"
     ]
    }
   ],
   "source": [
    "X_new = X_test[3] # model hasen't seen test data\n",
    "prediction = model.predict(X_new)\n",
    "print(prediction)\n",
    "\n",
    "if(prediction == 0):\n",
    "    print(\"News is Real\")\n",
    "else:\n",
    "    print(\"News is Fake\")"
   ]
  },
  {
   "cell_type": "code",
   "execution_count": 40,
   "id": "c48f5c03",
   "metadata": {},
   "outputs": [
    {
     "name": "stdout",
     "output_type": "stream",
     "text": [
      "0\n",
      "News is Real\n"
     ]
    }
   ],
   "source": [
    "print(Y_test[3])\n",
    "\n",
    "if(Y_test[3] == 0):\n",
    "    print(\"News is Real\")\n",
    "else:\n",
    "    print(\"News is Fake\")"
   ]
  },
  {
   "cell_type": "markdown",
   "id": "91ab3f53",
   "metadata": {},
   "source": [
    "Our model's prediction is matching the original label.\n",
    "Hence, Prediction is correct."
   ]
  },
  {
   "cell_type": "markdown",
   "id": "5fc8da14",
   "metadata": {},
   "source": [
    "# SVM (SUPPORT VECTOR MACHINE):"
   ]
  },
  {
   "cell_type": "markdown",
   "id": "4a00f19f",
   "metadata": {},
   "source": [
    "Training the model"
   ]
  },
  {
   "cell_type": "code",
   "execution_count": 41,
   "id": "ab1348f9",
   "metadata": {},
   "outputs": [],
   "source": [
    "classifier = SVC(kernel=\"linear\") # we need a linear decision boundary"
   ]
  },
  {
   "cell_type": "code",
   "execution_count": 42,
   "id": "ca66a754",
   "metadata": {},
   "outputs": [
    {
     "data": {
      "text/plain": [
       "SVC(kernel='linear')"
      ]
     },
     "execution_count": 42,
     "metadata": {},
     "output_type": "execute_result"
    }
   ],
   "source": [
    "classifier.fit(X_train, Y_train)"
   ]
  },
  {
   "cell_type": "markdown",
   "id": "027d5fb8",
   "metadata": {},
   "source": [
    "Predicting the Train data"
   ]
  },
  {
   "cell_type": "code",
   "execution_count": 43,
   "id": "6a059bef",
   "metadata": {},
   "outputs": [],
   "source": [
    "X_train_predict = classifier.predict(X_train)"
   ]
  },
  {
   "cell_type": "code",
   "execution_count": 44,
   "id": "afc85102",
   "metadata": {},
   "outputs": [],
   "source": [
    "accuracy_train = accuracy_score(X_train_predict, Y_train)*100"
   ]
  },
  {
   "cell_type": "code",
   "execution_count": 45,
   "id": "33c62c90",
   "metadata": {},
   "outputs": [
    {
     "name": "stdout",
     "output_type": "stream",
     "text": [
      "Accuracy of Train data:  99.74158653846153 %\n"
     ]
    }
   ],
   "source": [
    "print('Accuracy of Train data: ', accuracy_train, '%')"
   ]
  },
  {
   "cell_type": "markdown",
   "id": "068352e7",
   "metadata": {},
   "source": [
    "Predicting the Test data"
   ]
  },
  {
   "cell_type": "code",
   "execution_count": 46,
   "id": "4038789b",
   "metadata": {},
   "outputs": [],
   "source": [
    "X_test_predict = classifier.predict(X_test)"
   ]
  },
  {
   "cell_type": "code",
   "execution_count": 47,
   "id": "50156486",
   "metadata": {},
   "outputs": [],
   "source": [
    "SVM_accuracy = accuracy_score(X_test_predict, Y_test)*100"
   ]
  },
  {
   "cell_type": "code",
   "execution_count": 48,
   "id": "94bd38a9",
   "metadata": {},
   "outputs": [
    {
     "name": "stdout",
     "output_type": "stream",
     "text": [
      "Accuracy of Test data:  99.13461538461539 %\n"
     ]
    }
   ],
   "source": [
    "print('Accuracy of Test data: ', SVM_accuracy, '%')"
   ]
  },
  {
   "cell_type": "code",
   "execution_count": 49,
   "id": "64c2c093",
   "metadata": {},
   "outputs": [
    {
     "data": {
      "text/plain": [
       "array([[2057,   16],\n",
       "       [  20, 2067]])"
      ]
     },
     "execution_count": 49,
     "metadata": {},
     "output_type": "execute_result"
    }
   ],
   "source": [
    "confusion_matrix(X_test_predict, Y_test)"
   ]
  },
  {
   "cell_type": "markdown",
   "id": "fbd669f6",
   "metadata": {},
   "source": [
    "## Making the Predictive system (SVM):"
   ]
  },
  {
   "cell_type": "code",
   "execution_count": 50,
   "id": "f5bcb491",
   "metadata": {},
   "outputs": [
    {
     "name": "stdout",
     "output_type": "stream",
     "text": [
      "[0]\n",
      "News is Real\n"
     ]
    }
   ],
   "source": [
    "X_new = X_test[3] # model hasen't seen test data\n",
    "prediction = classifier.predict(X_new)\n",
    "print(prediction)\n",
    "\n",
    "if(prediction == 0):\n",
    "    print(\"News is Real\")\n",
    "else:\n",
    "    print(\"News is Fake\")"
   ]
  },
  {
   "cell_type": "code",
   "execution_count": 51,
   "id": "14b7130f",
   "metadata": {},
   "outputs": [
    {
     "name": "stdout",
     "output_type": "stream",
     "text": [
      "0\n",
      "News is Real\n"
     ]
    }
   ],
   "source": [
    "print(Y_test[3])\n",
    "\n",
    "if(Y_test[3] == 0):\n",
    "    print(\"News is Real\")\n",
    "else:\n",
    "    print(\"News is Fake\")"
   ]
  },
  {
   "cell_type": "markdown",
   "id": "bc13081d",
   "metadata": {},
   "source": [
    "Our model's prediction is matching the original label. Hence, Prediction is correct."
   ]
  },
  {
   "cell_type": "markdown",
   "id": "8b89d30d",
   "metadata": {},
   "source": [
    "# COMPARING ACCURACY OF ALGORITHMS"
   ]
  },
  {
   "cell_type": "code",
   "execution_count": 52,
   "id": "cc48bbf1",
   "metadata": {},
   "outputs": [
    {
     "data": {
      "image/png": "[encoded data removed]",
      "text/plain": [
       "<Figure size 640x480 with 1 Axes>"
      ]
     },
     "metadata": {},
     "output_type": "display_data"
    }
   ],
   "source": [
    "x_axis = ['SVM', 'Logistic', 'KNN']\n",
    "y_axis = [SVM_accuracy, LR_accuracy, knn_accuracy]\n",
    "\n",
    "plt.bar(x_axis, y_axis, width=0.3)\n",
    "\n",
    "plt.xlabel('Algorithms')\n",
    "plt.ylabel('Accuracy')\n",
    "\n",
    "plt.show()"
   ]
  },
  {
   "cell_type": "code",
   "execution_count": null,
   "id": "78853d45",
   "metadata": {},
   "outputs": [],
   "source": []
  }
 ],
 "metadata": {
  "kernelspec": {
   "display_name": "Python 3 (ipykernel)",
   "language": "python",
   "name": "python3"
  },
  "language_info": {
   "codemirror_mode": {
    "name": "ipython",
    "version": 3
   },
   "file_extension": ".py",
   "mimetype": "text/x-python",
   "name": "python",
   "nbconvert_exporter": "python",
   "pygments_lexer": "ipython3",
   "version": "3.9.13"
  }
 },
 "nbformat": 4,
 "nbformat_minor": 5
}
